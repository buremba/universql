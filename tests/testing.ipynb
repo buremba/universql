{
 "cells": [
  {
   "cell_type": "code",
   "execution_count": null,
   "id": "3f328a29bd4b799b",
   "metadata": {
    "is_executing": true
   },
   "outputs": [],
   "source": [
    "import requests\n",
    "import snowflake.connector\n",
    "\n",
    "con = snowflake.connector.connect(connection_name='jinjat_aws_us')\n",
    "cur = con.cursor()\n",
    "token_data = con._rest._token_request('ISSUE')\n",
    "token_extract = token_data['data']['sessionToken']\n",
    "\n",
    "token = f'\\\"{token_extract}\\\"'\n",
    "headers = {'Authorization': f'Snowflake Token={token}'}\n",
    "# Set this to the ingress endpoint URL for your service\n",
    "url = 'https://e6szq-eptceco-aws-us-west.snowflakecomputing.app'\n",
    "\n",
    "# Validate the connection.\n",
    "response = requests.get(f'{url}', headers=headers)\n",
    "response.text\n",
    "\n",
    "cur.execute(\"select * from table(to_query('select 1'))\")"
   ]
  },
  {
   "cell_type": "markdown",
   "source": [],
   "metadata": {
    "collapsed": false
   },
   "id": "2f2f437baff48b59"
  },
  {
   "cell_type": "code",
   "outputs": [],
   "source": [
    "!pip install jupyter"
   ],
   "metadata": {
    "collapsed": false,
    "is_executing": true
   },
   "id": "8939bb8a8cf430e4"
  },
  {
   "cell_type": "code",
   "execution_count": null,
   "id": "initial_id",
   "metadata": {
    "is_executing": true
   },
   "outputs": [],
   "source": [
    "import sqlglot\n",
    "import snowflake.connector\n",
    "\n",
    "\n",
    "def transformation(param):\n",
    "    pass\n",
    "\n",
    "\n",
    "@transformation('default_create_table_as_iceberg')\n",
    "def default_create_table_as_iceberg(expression: sqlglot.exp.Expression, args: dict):\n",
    "    if isinstance(expression, sqlglot.exp.Create):\n",
    "        if expression.kind == 'TABLE':\n",
    "            # Apply transformation\n",
    "            return expression\n",
    "    return expression\n",
    "\n",
    "con = snowflake.connector.connect(\n",
    "      account='lt51601.europe-west2.gcp', \n",
    "      database='my_iceberg_jinjat', connection_name='default',\n",
    "      host='localhostcomputing.com', port='8084', # points to locally running universql \n",
    "      # run on snowflake, only if there is an active warehouse\n",
    "      # warehouse='sample_data(0.1) | snowflake(warehouse=already_on)',\n",
    "      # try to run the query on sample data (i.e. table_ref becomes `tableref TABLESAMPLE (1000 rows)`) locally and use, Motherduck if it doesn't complete in 10 seconds, and fallback to Snowflake\n",
    "      warehouse='replace_table_sample(\"1000 rows\") | duckdb(timeout=10s),duckdb(database=\"md:\", timeout=10m),snowflake()')\n",
    "cur = con.cursor()\n",
    "#con.cursor().execute(\"select * from \\\"DYNAMIC_ICEBERG_TABLE_CUSTOMER\\\"  limit 100\").fetch_pandas_all()\n",
    "con.cursor().execute(\"select 1  limit 100\").fetch_pandas_all()\n"
   ]
  },
  {
   "cell_type": "code",
   "execution_count": null,
   "id": "fe0470935e681eb6",
   "metadata": {
    "is_executing": true
   },
   "outputs": [],
   "source": []
  },
  {
   "cell_type": "code",
   "execution_count": 5,
   "id": "d00daefb9f311e9e",
   "metadata": {
    "ExecuteTime": {
     "end_time": "2024-09-27T15:49:37.407323Z",
     "start_time": "2024-09-27T15:49:37.370183Z"
    }
   },
   "outputs": [
    {
     "ename": "NameError",
     "evalue": "name 'con' is not defined",
     "output_type": "error",
     "traceback": [
      "\u001B[0;31m---------------------------------------------------------------------------\u001B[0m",
      "\u001B[0;31mNameError\u001B[0m                                 Traceback (most recent call last)",
      "Input \u001B[0;32mIn [5]\u001B[0m, in \u001B[0;36m<cell line: 1>\u001B[0;34m()\u001B[0m\n\u001B[0;32m----> 1\u001B[0m \u001B[43mcon\u001B[49m\u001B[38;5;241m.\u001B[39mcursor()\u001B[38;5;241m.\u001B[39mexecute(\u001B[38;5;124m\"\u001B[39m\u001B[38;5;124mselect * from table(to_query(\u001B[39m\u001B[38;5;124m'\u001B[39m\u001B[38;5;124mselect 1\u001B[39m\u001B[38;5;124m'\u001B[39m\u001B[38;5;124m))\u001B[39m\u001B[38;5;124m\"\u001B[39m)\u001B[38;5;241m.\u001B[39mfetch_pandas_all()\n",
      "\u001B[0;31mNameError\u001B[0m: name 'con' is not defined"
     ]
    }
   ],
   "source": [
    "con.cursor().execute(\"select * from table(to_query('select 1'))\").fetch_pandas_all()\n"
   ]
  },
  {
   "cell_type": "code",
   "execution_count": 2,
   "id": "a28646d5a8560160",
   "metadata": {
    "ExecuteTime": {
     "end_time": "2024-09-23T22:26:36.586435Z",
     "start_time": "2024-09-23T22:25:59.837939Z"
    }
   },
   "outputs": [
    {
     "ename": "InterfaceError",
     "evalue": "250003 (08001): 401 Unauthorized: post https://localhostcomputing.com:8084/queries/v1/query-request?requestId=6d4b2c75-1ca1-4ca6-a3ed-af1749a5f288&clientStartTime=1727130359840&retryCount=8&retryReason=None",
     "output_type": "error",
     "traceback": [
      "\u001B[0;31m---------------------------------------------------------------------------\u001B[0m",
      "\u001B[0;31mInterfaceError\u001B[0m                            Traceback (most recent call last)",
      "Cell \u001B[0;32mIn[2], line 1\u001B[0m\n\u001B[0;32m----> 1\u001B[0m \u001B[43mcon\u001B[49m\u001B[38;5;241;43m.\u001B[39;49m\u001B[43mcursor\u001B[49m\u001B[43m(\u001B[49m\u001B[43m)\u001B[49m\u001B[38;5;241;43m.\u001B[39;49m\u001B[43mexecute\u001B[49m\u001B[43m(\u001B[49m\u001B[38;5;124;43m\"\u001B[39;49m\u001B[38;5;124;43mselect C_MKTSEGMENT, count(*) from my_iceberg_jinjat.tpch_sf1.dynamic_iceberg_table_customer group by all\u001B[39;49m\u001B[38;5;124;43m\"\u001B[39;49m\u001B[43m)\u001B[49m\u001B[38;5;241m.\u001B[39mfetch_pandas_all()\n",
      "File \u001B[0;32m~/Library/Caches/pypoetry/virtualenvs/universql-Kc1spAeO-py3.11/lib/python3.11/site-packages/snowflake/connector/cursor.py:984\u001B[0m, in \u001B[0;36mSnowflakeCursor.execute\u001B[0;34m(self, command, params, _bind_stage, timeout, _exec_async, _no_retry, _do_reset, _put_callback, _put_azure_callback, _put_callback_output_stream, _get_callback, _get_azure_callback, _get_callback_output_stream, _show_progress_bar, _statement_params, _is_internal, _describe_only, _no_results, _is_put_get, _raise_put_get_error, _force_put_overwrite, _skip_upload_on_content_match, file_stream, num_statements, _dataframe_ast)\u001B[0m\n\u001B[1;32m    977\u001B[0m     logger\u001B[38;5;241m.\u001B[39mdebug(\n\u001B[1;32m    978\u001B[0m         \u001B[38;5;124m\"\u001B[39m\u001B[38;5;124mquery was rewritten: org=\u001B[39m\u001B[38;5;132;01m%s\u001B[39;00m\u001B[38;5;124m, new=\u001B[39m\u001B[38;5;132;01m%s\u001B[39;00m\u001B[38;5;124m\"\u001B[39m,\n\u001B[1;32m    979\u001B[0m         \u001B[38;5;124m\"\u001B[39m\u001B[38;5;124m \u001B[39m\u001B[38;5;124m\"\u001B[39m\u001B[38;5;241m.\u001B[39mjoin(line\u001B[38;5;241m.\u001B[39mstrip() \u001B[38;5;28;01mfor\u001B[39;00m line \u001B[38;5;129;01min\u001B[39;00m query\u001B[38;5;241m.\u001B[39msplit(\u001B[38;5;124m\"\u001B[39m\u001B[38;5;130;01m\\n\u001B[39;00m\u001B[38;5;124m\"\u001B[39m)),\n\u001B[1;32m    980\u001B[0m         query1,\n\u001B[1;32m    981\u001B[0m     )\n\u001B[1;32m    982\u001B[0m     query \u001B[38;5;241m=\u001B[39m query1\n\u001B[0;32m--> 984\u001B[0m ret \u001B[38;5;241m=\u001B[39m \u001B[38;5;28;43mself\u001B[39;49m\u001B[38;5;241;43m.\u001B[39;49m\u001B[43m_execute_helper\u001B[49m\u001B[43m(\u001B[49m\u001B[43mquery\u001B[49m\u001B[43m,\u001B[49m\u001B[43m \u001B[49m\u001B[38;5;241;43m*\u001B[39;49m\u001B[38;5;241;43m*\u001B[39;49m\u001B[43mkwargs\u001B[49m\u001B[43m)\u001B[49m\n\u001B[1;32m    985\u001B[0m \u001B[38;5;28mself\u001B[39m\u001B[38;5;241m.\u001B[39m_sfqid \u001B[38;5;241m=\u001B[39m (\n\u001B[1;32m    986\u001B[0m     ret[\u001B[38;5;124m\"\u001B[39m\u001B[38;5;124mdata\u001B[39m\u001B[38;5;124m\"\u001B[39m][\u001B[38;5;124m\"\u001B[39m\u001B[38;5;124mqueryId\u001B[39m\u001B[38;5;124m\"\u001B[39m]\n\u001B[1;32m    987\u001B[0m     \u001B[38;5;28;01mif\u001B[39;00m \u001B[38;5;124m\"\u001B[39m\u001B[38;5;124mdata\u001B[39m\u001B[38;5;124m\"\u001B[39m \u001B[38;5;129;01min\u001B[39;00m ret \u001B[38;5;129;01mand\u001B[39;00m \u001B[38;5;124m\"\u001B[39m\u001B[38;5;124mqueryId\u001B[39m\u001B[38;5;124m\"\u001B[39m \u001B[38;5;129;01min\u001B[39;00m ret[\u001B[38;5;124m\"\u001B[39m\u001B[38;5;124mdata\u001B[39m\u001B[38;5;124m\"\u001B[39m]\n\u001B[1;32m    988\u001B[0m     \u001B[38;5;28;01melse\u001B[39;00m \u001B[38;5;28;01mNone\u001B[39;00m\n\u001B[1;32m    989\u001B[0m )\n\u001B[1;32m    990\u001B[0m logger\u001B[38;5;241m.\u001B[39mdebug(\u001B[38;5;124mf\u001B[39m\u001B[38;5;124m\"\u001B[39m\u001B[38;5;124msfqid: \u001B[39m\u001B[38;5;132;01m{\u001B[39;00m\u001B[38;5;28mself\u001B[39m\u001B[38;5;241m.\u001B[39msfqid\u001B[38;5;132;01m}\u001B[39;00m\u001B[38;5;124m\"\u001B[39m)\n",
      "File \u001B[0;32m~/Library/Caches/pypoetry/virtualenvs/universql-Kc1spAeO-py3.11/lib/python3.11/site-packages/snowflake/connector/cursor.py:695\u001B[0m, in \u001B[0;36mSnowflakeCursor._execute_helper\u001B[0;34m(self, query, timeout, statement_params, binding_params, binding_stage, is_internal, describe_only, _no_results, _is_put_get, _no_retry, dataframe_ast)\u001B[0m\n\u001B[1;32m    693\u001B[0m ret: \u001B[38;5;28mdict\u001B[39m[\u001B[38;5;28mstr\u001B[39m, Any] \u001B[38;5;241m=\u001B[39m {\u001B[38;5;124m\"\u001B[39m\u001B[38;5;124mdata\u001B[39m\u001B[38;5;124m\"\u001B[39m: {}}\n\u001B[1;32m    694\u001B[0m \u001B[38;5;28;01mtry\u001B[39;00m:\n\u001B[0;32m--> 695\u001B[0m     ret \u001B[38;5;241m=\u001B[39m \u001B[38;5;28;43mself\u001B[39;49m\u001B[38;5;241;43m.\u001B[39;49m\u001B[43m_connection\u001B[49m\u001B[38;5;241;43m.\u001B[39;49m\u001B[43mcmd_query\u001B[49m\u001B[43m(\u001B[49m\n\u001B[1;32m    696\u001B[0m \u001B[43m        \u001B[49m\u001B[43mquery\u001B[49m\u001B[43m,\u001B[49m\n\u001B[1;32m    697\u001B[0m \u001B[43m        \u001B[49m\u001B[38;5;28;43mself\u001B[39;49m\u001B[38;5;241;43m.\u001B[39;49m\u001B[43m_sequence_counter\u001B[49m\u001B[43m,\u001B[49m\n\u001B[1;32m    698\u001B[0m \u001B[43m        \u001B[49m\u001B[38;5;28;43mself\u001B[39;49m\u001B[38;5;241;43m.\u001B[39;49m\u001B[43m_request_id\u001B[49m\u001B[43m,\u001B[49m\n\u001B[1;32m    699\u001B[0m \u001B[43m        \u001B[49m\u001B[43mbinding_params\u001B[49m\u001B[38;5;241;43m=\u001B[39;49m\u001B[43mbinding_params\u001B[49m\u001B[43m,\u001B[49m\n\u001B[1;32m    700\u001B[0m \u001B[43m        \u001B[49m\u001B[43mbinding_stage\u001B[49m\u001B[38;5;241;43m=\u001B[39;49m\u001B[43mbinding_stage\u001B[49m\u001B[43m,\u001B[49m\n\u001B[1;32m    701\u001B[0m \u001B[43m        \u001B[49m\u001B[43mis_file_transfer\u001B[49m\u001B[38;5;241;43m=\u001B[39;49m\u001B[38;5;28;43mbool\u001B[39;49m\u001B[43m(\u001B[49m\u001B[38;5;28;43mself\u001B[39;49m\u001B[38;5;241;43m.\u001B[39;49m\u001B[43m_is_file_transfer\u001B[49m\u001B[43m)\u001B[49m\u001B[43m,\u001B[49m\n\u001B[1;32m    702\u001B[0m \u001B[43m        \u001B[49m\u001B[43mstatement_params\u001B[49m\u001B[38;5;241;43m=\u001B[39;49m\u001B[43mstatement_params\u001B[49m\u001B[43m,\u001B[49m\n\u001B[1;32m    703\u001B[0m \u001B[43m        \u001B[49m\u001B[43mis_internal\u001B[49m\u001B[38;5;241;43m=\u001B[39;49m\u001B[43mis_internal\u001B[49m\u001B[43m,\u001B[49m\n\u001B[1;32m    704\u001B[0m \u001B[43m        \u001B[49m\u001B[43mdescribe_only\u001B[49m\u001B[38;5;241;43m=\u001B[39;49m\u001B[43mdescribe_only\u001B[49m\u001B[43m,\u001B[49m\n\u001B[1;32m    705\u001B[0m \u001B[43m        \u001B[49m\u001B[43m_no_results\u001B[49m\u001B[38;5;241;43m=\u001B[39;49m\u001B[43m_no_results\u001B[49m\u001B[43m,\u001B[49m\n\u001B[1;32m    706\u001B[0m \u001B[43m        \u001B[49m\u001B[43m_no_retry\u001B[49m\u001B[38;5;241;43m=\u001B[39;49m\u001B[43m_no_retry\u001B[49m\u001B[43m,\u001B[49m\n\u001B[1;32m    707\u001B[0m \u001B[43m        \u001B[49m\u001B[43mtimeout\u001B[49m\u001B[38;5;241;43m=\u001B[39;49m\u001B[43mreal_timeout\u001B[49m\u001B[43m,\u001B[49m\n\u001B[1;32m    708\u001B[0m \u001B[43m        \u001B[49m\u001B[43mdataframe_ast\u001B[49m\u001B[38;5;241;43m=\u001B[39;49m\u001B[43mdataframe_ast\u001B[49m\u001B[43m,\u001B[49m\n\u001B[1;32m    709\u001B[0m \u001B[43m    \u001B[49m\u001B[43m)\u001B[49m\n\u001B[1;32m    710\u001B[0m \u001B[38;5;28;01mfinally\u001B[39;00m:\n\u001B[1;32m    711\u001B[0m     \u001B[38;5;28;01mtry\u001B[39;00m:\n",
      "File \u001B[0;32m~/Library/Caches/pypoetry/virtualenvs/universql-Kc1spAeO-py3.11/lib/python3.11/site-packages/snowflake/connector/connection.py:1350\u001B[0m, in \u001B[0;36mSnowflakeConnection.cmd_query\u001B[0;34m(self, sql, sequence_counter, request_id, binding_params, binding_stage, is_file_transfer, statement_params, is_internal, describe_only, _no_results, _update_current_object, _no_retry, timeout, dataframe_ast)\u001B[0m\n\u001B[1;32m   1341\u001B[0m     logger\u001B[38;5;241m.\u001B[39mdebug(\n\u001B[1;32m   1342\u001B[0m         \u001B[38;5;124m\"\u001B[39m\u001B[38;5;124msql=[\u001B[39m\u001B[38;5;132;01m%s\u001B[39;00m\u001B[38;5;124m], sequence_id=[\u001B[39m\u001B[38;5;132;01m%s\u001B[39;00m\u001B[38;5;124m], is_file_transfer=[\u001B[39m\u001B[38;5;132;01m%s\u001B[39;00m\u001B[38;5;124m]\u001B[39m\u001B[38;5;124m\"\u001B[39m,\n\u001B[1;32m   1343\u001B[0m         \u001B[38;5;28mself\u001B[39m\u001B[38;5;241m.\u001B[39m_format_query_for_log(data[\u001B[38;5;124m\"\u001B[39m\u001B[38;5;124msqlText\u001B[39m\u001B[38;5;124m\"\u001B[39m]),\n\u001B[1;32m   1344\u001B[0m         data[\u001B[38;5;124m\"\u001B[39m\u001B[38;5;124msequenceId\u001B[39m\u001B[38;5;124m\"\u001B[39m],\n\u001B[1;32m   1345\u001B[0m         is_file_transfer,\n\u001B[1;32m   1346\u001B[0m     )\n\u001B[1;32m   1348\u001B[0m url_parameters \u001B[38;5;241m=\u001B[39m {REQUEST_ID: request_id}\n\u001B[0;32m-> 1350\u001B[0m ret \u001B[38;5;241m=\u001B[39m \u001B[38;5;28;43mself\u001B[39;49m\u001B[38;5;241;43m.\u001B[39;49m\u001B[43mrest\u001B[49m\u001B[38;5;241;43m.\u001B[39;49m\u001B[43mrequest\u001B[49m\u001B[43m(\u001B[49m\n\u001B[1;32m   1351\u001B[0m \u001B[43m    \u001B[49m\u001B[38;5;124;43m\"\u001B[39;49m\u001B[38;5;124;43m/queries/v1/query-request?\u001B[39;49m\u001B[38;5;124;43m\"\u001B[39;49m\u001B[43m \u001B[49m\u001B[38;5;241;43m+\u001B[39;49m\u001B[43m \u001B[49m\u001B[43murlencode\u001B[49m\u001B[43m(\u001B[49m\u001B[43murl_parameters\u001B[49m\u001B[43m)\u001B[49m\u001B[43m,\u001B[49m\n\u001B[1;32m   1352\u001B[0m \u001B[43m    \u001B[49m\u001B[43mdata\u001B[49m\u001B[43m,\u001B[49m\n\u001B[1;32m   1353\u001B[0m \u001B[43m    \u001B[49m\u001B[43mclient\u001B[49m\u001B[38;5;241;43m=\u001B[39;49m\u001B[43mclient\u001B[49m\u001B[43m,\u001B[49m\n\u001B[1;32m   1354\u001B[0m \u001B[43m    \u001B[49m\u001B[43m_no_results\u001B[49m\u001B[38;5;241;43m=\u001B[39;49m\u001B[43m_no_results\u001B[49m\u001B[43m,\u001B[49m\n\u001B[1;32m   1355\u001B[0m \u001B[43m    \u001B[49m\u001B[43m_include_retry_params\u001B[49m\u001B[38;5;241;43m=\u001B[39;49m\u001B[38;5;28;43;01mTrue\u001B[39;49;00m\u001B[43m,\u001B[49m\n\u001B[1;32m   1356\u001B[0m \u001B[43m    \u001B[49m\u001B[43m_no_retry\u001B[49m\u001B[38;5;241;43m=\u001B[39;49m\u001B[43m_no_retry\u001B[49m\u001B[43m,\u001B[49m\n\u001B[1;32m   1357\u001B[0m \u001B[43m    \u001B[49m\u001B[43mtimeout\u001B[49m\u001B[38;5;241;43m=\u001B[39;49m\u001B[43mtimeout\u001B[49m\u001B[43m,\u001B[49m\n\u001B[1;32m   1358\u001B[0m \u001B[43m\u001B[49m\u001B[43m)\u001B[49m\n\u001B[1;32m   1360\u001B[0m \u001B[38;5;28;01mif\u001B[39;00m ret \u001B[38;5;129;01mis\u001B[39;00m \u001B[38;5;28;01mNone\u001B[39;00m:\n\u001B[1;32m   1361\u001B[0m     ret \u001B[38;5;241m=\u001B[39m {\u001B[38;5;124m\"\u001B[39m\u001B[38;5;124mdata\u001B[39m\u001B[38;5;124m\"\u001B[39m: {}}\n",
      "File \u001B[0;32m~/Library/Caches/pypoetry/virtualenvs/universql-Kc1spAeO-py3.11/lib/python3.11/site-packages/snowflake/connector/network.py:491\u001B[0m, in \u001B[0;36mSnowflakeRestful.request\u001B[0;34m(self, url, body, method, client, timeout, _no_results, _include_retry_params, _no_retry)\u001B[0m\n\u001B[1;32m    489\u001B[0m     headers[HTTP_HEADER_SERVICE_NAME] \u001B[38;5;241m=\u001B[39m \u001B[38;5;28mself\u001B[39m\u001B[38;5;241m.\u001B[39m_connection\u001B[38;5;241m.\u001B[39mservice_name\n\u001B[1;32m    490\u001B[0m \u001B[38;5;28;01mif\u001B[39;00m method \u001B[38;5;241m==\u001B[39m \u001B[38;5;124m\"\u001B[39m\u001B[38;5;124mpost\u001B[39m\u001B[38;5;124m\"\u001B[39m:\n\u001B[0;32m--> 491\u001B[0m     \u001B[38;5;28;01mreturn\u001B[39;00m \u001B[38;5;28;43mself\u001B[39;49m\u001B[38;5;241;43m.\u001B[39;49m\u001B[43m_post_request\u001B[49m\u001B[43m(\u001B[49m\n\u001B[1;32m    492\u001B[0m \u001B[43m        \u001B[49m\u001B[43murl\u001B[49m\u001B[43m,\u001B[49m\n\u001B[1;32m    493\u001B[0m \u001B[43m        \u001B[49m\u001B[43mheaders\u001B[49m\u001B[43m,\u001B[49m\n\u001B[1;32m    494\u001B[0m \u001B[43m        \u001B[49m\u001B[43mjson\u001B[49m\u001B[38;5;241;43m.\u001B[39;49m\u001B[43mdumps\u001B[49m\u001B[43m(\u001B[49m\u001B[43mbody\u001B[49m\u001B[43m)\u001B[49m\u001B[43m,\u001B[49m\n\u001B[1;32m    495\u001B[0m \u001B[43m        \u001B[49m\u001B[43mtoken\u001B[49m\u001B[38;5;241;43m=\u001B[39;49m\u001B[38;5;28;43mself\u001B[39;49m\u001B[38;5;241;43m.\u001B[39;49m\u001B[43mtoken\u001B[49m\u001B[43m,\u001B[49m\n\u001B[1;32m    496\u001B[0m \u001B[43m        \u001B[49m\u001B[43m_no_results\u001B[49m\u001B[38;5;241;43m=\u001B[39;49m\u001B[43m_no_results\u001B[49m\u001B[43m,\u001B[49m\n\u001B[1;32m    497\u001B[0m \u001B[43m        \u001B[49m\u001B[43mtimeout\u001B[49m\u001B[38;5;241;43m=\u001B[39;49m\u001B[43mtimeout\u001B[49m\u001B[43m,\u001B[49m\n\u001B[1;32m    498\u001B[0m \u001B[43m        \u001B[49m\u001B[43m_include_retry_params\u001B[49m\u001B[38;5;241;43m=\u001B[39;49m\u001B[43m_include_retry_params\u001B[49m\u001B[43m,\u001B[49m\n\u001B[1;32m    499\u001B[0m \u001B[43m        \u001B[49m\u001B[43mno_retry\u001B[49m\u001B[38;5;241;43m=\u001B[39;49m\u001B[43m_no_retry\u001B[49m\u001B[43m,\u001B[49m\n\u001B[1;32m    500\u001B[0m \u001B[43m    \u001B[49m\u001B[43m)\u001B[49m\n\u001B[1;32m    501\u001B[0m \u001B[38;5;28;01melse\u001B[39;00m:\n\u001B[1;32m    502\u001B[0m     \u001B[38;5;28;01mreturn\u001B[39;00m \u001B[38;5;28mself\u001B[39m\u001B[38;5;241m.\u001B[39m_get_request(\n\u001B[1;32m    503\u001B[0m         url,\n\u001B[1;32m    504\u001B[0m         headers,\n\u001B[1;32m    505\u001B[0m         token\u001B[38;5;241m=\u001B[39m\u001B[38;5;28mself\u001B[39m\u001B[38;5;241m.\u001B[39mtoken,\n\u001B[1;32m    506\u001B[0m         timeout\u001B[38;5;241m=\u001B[39mtimeout,\n\u001B[1;32m    507\u001B[0m     )\n",
      "File \u001B[0;32m~/Library/Caches/pypoetry/virtualenvs/universql-Kc1spAeO-py3.11/lib/python3.11/site-packages/snowflake/connector/network.py:739\u001B[0m, in \u001B[0;36mSnowflakeRestful._post_request\u001B[0;34m(self, url, headers, body, token, timeout, socket_timeout, _no_results, no_retry, _include_retry_params)\u001B[0m\n\u001B[1;32m    736\u001B[0m     ret \u001B[38;5;241m=\u001B[39m probe_connection(full_url)\n\u001B[1;32m    737\u001B[0m     pprint(ret)\n\u001B[0;32m--> 739\u001B[0m ret \u001B[38;5;241m=\u001B[39m \u001B[38;5;28;43mself\u001B[39;49m\u001B[38;5;241;43m.\u001B[39;49m\u001B[43mfetch\u001B[49m\u001B[43m(\u001B[49m\n\u001B[1;32m    740\u001B[0m \u001B[43m    \u001B[49m\u001B[38;5;124;43m\"\u001B[39;49m\u001B[38;5;124;43mpost\u001B[39;49m\u001B[38;5;124;43m\"\u001B[39;49m\u001B[43m,\u001B[49m\n\u001B[1;32m    741\u001B[0m \u001B[43m    \u001B[49m\u001B[43mfull_url\u001B[49m\u001B[43m,\u001B[49m\n\u001B[1;32m    742\u001B[0m \u001B[43m    \u001B[49m\u001B[43mheaders\u001B[49m\u001B[43m,\u001B[49m\n\u001B[1;32m    743\u001B[0m \u001B[43m    \u001B[49m\u001B[43mdata\u001B[49m\u001B[38;5;241;43m=\u001B[39;49m\u001B[43mbody\u001B[49m\u001B[43m,\u001B[49m\n\u001B[1;32m    744\u001B[0m \u001B[43m    \u001B[49m\u001B[43mtimeout\u001B[49m\u001B[38;5;241;43m=\u001B[39;49m\u001B[43mtimeout\u001B[49m\u001B[43m,\u001B[49m\n\u001B[1;32m    745\u001B[0m \u001B[43m    \u001B[49m\u001B[43mtoken\u001B[49m\u001B[38;5;241;43m=\u001B[39;49m\u001B[43mtoken\u001B[49m\u001B[43m,\u001B[49m\n\u001B[1;32m    746\u001B[0m \u001B[43m    \u001B[49m\u001B[43mno_retry\u001B[49m\u001B[38;5;241;43m=\u001B[39;49m\u001B[43mno_retry\u001B[49m\u001B[43m,\u001B[49m\n\u001B[1;32m    747\u001B[0m \u001B[43m    \u001B[49m\u001B[43m_include_retry_params\u001B[49m\u001B[38;5;241;43m=\u001B[39;49m\u001B[43m_include_retry_params\u001B[49m\u001B[43m,\u001B[49m\n\u001B[1;32m    748\u001B[0m \u001B[43m    \u001B[49m\u001B[43msocket_timeout\u001B[49m\u001B[38;5;241;43m=\u001B[39;49m\u001B[43msocket_timeout\u001B[49m\u001B[43m,\u001B[49m\n\u001B[1;32m    749\u001B[0m \u001B[43m\u001B[49m\u001B[43m)\u001B[49m\n\u001B[1;32m    750\u001B[0m logger\u001B[38;5;241m.\u001B[39mdebug(\n\u001B[1;32m    751\u001B[0m     \u001B[38;5;124m\"\u001B[39m\u001B[38;5;124mret[code] = \u001B[39m\u001B[38;5;132;01m{code}\u001B[39;00m\u001B[38;5;124m, after post request\u001B[39m\u001B[38;5;124m\"\u001B[39m\u001B[38;5;241m.\u001B[39mformat(\n\u001B[1;32m    752\u001B[0m         code\u001B[38;5;241m=\u001B[39m(ret\u001B[38;5;241m.\u001B[39mget(\u001B[38;5;124m\"\u001B[39m\u001B[38;5;124mcode\u001B[39m\u001B[38;5;124m\"\u001B[39m, \u001B[38;5;124m\"\u001B[39m\u001B[38;5;124mN/A\u001B[39m\u001B[38;5;124m\"\u001B[39m))\n\u001B[1;32m    753\u001B[0m     )\n\u001B[1;32m    754\u001B[0m )\n\u001B[1;32m    756\u001B[0m \u001B[38;5;28;01mif\u001B[39;00m ret\u001B[38;5;241m.\u001B[39mget(\u001B[38;5;124m\"\u001B[39m\u001B[38;5;124mcode\u001B[39m\u001B[38;5;124m\"\u001B[39m) \u001B[38;5;241m==\u001B[39m MASTER_TOKEN_EXPIRED_GS_CODE:\n",
      "File \u001B[0;32m~/Library/Caches/pypoetry/virtualenvs/universql-Kc1spAeO-py3.11/lib/python3.11/site-packages/snowflake/connector/network.py:854\u001B[0m, in \u001B[0;36mSnowflakeRestful.fetch\u001B[0;34m(self, method, full_url, headers, data, timeout, **kwargs)\u001B[0m\n\u001B[1;32m    852\u001B[0m retry_ctx\u001B[38;5;241m.\u001B[39mset_start_time()\n\u001B[1;32m    853\u001B[0m \u001B[38;5;28;01mwhile\u001B[39;00m \u001B[38;5;28;01mTrue\u001B[39;00m:\n\u001B[0;32m--> 854\u001B[0m     ret \u001B[38;5;241m=\u001B[39m \u001B[38;5;28;43mself\u001B[39;49m\u001B[38;5;241;43m.\u001B[39;49m\u001B[43m_request_exec_wrapper\u001B[49m\u001B[43m(\u001B[49m\n\u001B[1;32m    855\u001B[0m \u001B[43m        \u001B[49m\u001B[43msession\u001B[49m\u001B[43m,\u001B[49m\u001B[43m \u001B[49m\u001B[43mmethod\u001B[49m\u001B[43m,\u001B[49m\u001B[43m \u001B[49m\u001B[43mfull_url\u001B[49m\u001B[43m,\u001B[49m\u001B[43m \u001B[49m\u001B[43mheaders\u001B[49m\u001B[43m,\u001B[49m\u001B[43m \u001B[49m\u001B[43mdata\u001B[49m\u001B[43m,\u001B[49m\u001B[43m \u001B[49m\u001B[43mretry_ctx\u001B[49m\u001B[43m,\u001B[49m\u001B[43m \u001B[49m\u001B[38;5;241;43m*\u001B[39;49m\u001B[38;5;241;43m*\u001B[39;49m\u001B[43mkwargs\u001B[49m\n\u001B[1;32m    856\u001B[0m \u001B[43m    \u001B[49m\u001B[43m)\u001B[49m\n\u001B[1;32m    857\u001B[0m     \u001B[38;5;28;01mif\u001B[39;00m ret \u001B[38;5;129;01mis\u001B[39;00m \u001B[38;5;129;01mnot\u001B[39;00m \u001B[38;5;28;01mNone\u001B[39;00m:\n\u001B[1;32m    858\u001B[0m         \u001B[38;5;28;01mreturn\u001B[39;00m ret\n",
      "File \u001B[0;32m~/Library/Caches/pypoetry/virtualenvs/universql-Kc1spAeO-py3.11/lib/python3.11/site-packages/snowflake/connector/network.py:971\u001B[0m, in \u001B[0;36mSnowflakeRestful._request_exec_wrapper\u001B[0;34m(self, session, method, full_url, headers, data, retry_ctx, no_retry, token, **kwargs)\u001B[0m\n\u001B[1;32m    969\u001B[0m \u001B[38;5;28;01mexcept\u001B[39;00m \u001B[38;5;167;01mException\u001B[39;00m \u001B[38;5;28;01mas\u001B[39;00m e:\n\u001B[1;32m    970\u001B[0m     \u001B[38;5;28;01mif\u001B[39;00m \u001B[38;5;129;01mnot\u001B[39;00m no_retry:\n\u001B[0;32m--> 971\u001B[0m         \u001B[38;5;28;01mraise\u001B[39;00m e\n\u001B[1;32m    972\u001B[0m     logger\u001B[38;5;241m.\u001B[39mdebug(\u001B[38;5;124m\"\u001B[39m\u001B[38;5;124mIgnored error\u001B[39m\u001B[38;5;124m\"\u001B[39m, exc_info\u001B[38;5;241m=\u001B[39m\u001B[38;5;28;01mTrue\u001B[39;00m)\n\u001B[1;32m    973\u001B[0m     \u001B[38;5;28;01mreturn\u001B[39;00m {}\n",
      "File \u001B[0;32m~/Library/Caches/pypoetry/virtualenvs/universql-Kc1spAeO-py3.11/lib/python3.11/site-packages/snowflake/connector/network.py:896\u001B[0m, in \u001B[0;36mSnowflakeRestful._request_exec_wrapper\u001B[0;34m(self, session, method, full_url, headers, data, retry_ctx, no_retry, token, **kwargs)\u001B[0m\n\u001B[1;32m    894\u001B[0m is_fetch_query_status \u001B[38;5;241m=\u001B[39m kwargs\u001B[38;5;241m.\u001B[39mpop(\u001B[38;5;124m\"\u001B[39m\u001B[38;5;124mis_fetch_query_status\u001B[39m\u001B[38;5;124m\"\u001B[39m, \u001B[38;5;28;01mFalse\u001B[39;00m)\n\u001B[1;32m    895\u001B[0m \u001B[38;5;28;01mtry\u001B[39;00m:\n\u001B[0;32m--> 896\u001B[0m     return_object \u001B[38;5;241m=\u001B[39m \u001B[38;5;28;43mself\u001B[39;49m\u001B[38;5;241;43m.\u001B[39;49m\u001B[43m_request_exec\u001B[49m\u001B[43m(\u001B[49m\n\u001B[1;32m    897\u001B[0m \u001B[43m        \u001B[49m\u001B[43msession\u001B[49m\u001B[38;5;241;43m=\u001B[39;49m\u001B[43msession\u001B[49m\u001B[43m,\u001B[49m\n\u001B[1;32m    898\u001B[0m \u001B[43m        \u001B[49m\u001B[43mmethod\u001B[49m\u001B[38;5;241;43m=\u001B[39;49m\u001B[43mmethod\u001B[49m\u001B[43m,\u001B[49m\n\u001B[1;32m    899\u001B[0m \u001B[43m        \u001B[49m\u001B[43mfull_url\u001B[49m\u001B[38;5;241;43m=\u001B[39;49m\u001B[43mfull_url\u001B[49m\u001B[43m,\u001B[49m\n\u001B[1;32m    900\u001B[0m \u001B[43m        \u001B[49m\u001B[43mheaders\u001B[49m\u001B[38;5;241;43m=\u001B[39;49m\u001B[43mheaders\u001B[49m\u001B[43m,\u001B[49m\n\u001B[1;32m    901\u001B[0m \u001B[43m        \u001B[49m\u001B[43mdata\u001B[49m\u001B[38;5;241;43m=\u001B[39;49m\u001B[43mdata\u001B[49m\u001B[43m,\u001B[49m\n\u001B[1;32m    902\u001B[0m \u001B[43m        \u001B[49m\u001B[43mtoken\u001B[49m\u001B[38;5;241;43m=\u001B[39;49m\u001B[43mtoken\u001B[49m\u001B[43m,\u001B[49m\n\u001B[1;32m    903\u001B[0m \u001B[43m        \u001B[49m\u001B[38;5;241;43m*\u001B[39;49m\u001B[38;5;241;43m*\u001B[39;49m\u001B[43mkwargs\u001B[49m\u001B[43m,\u001B[49m\n\u001B[1;32m    904\u001B[0m \u001B[43m    \u001B[49m\u001B[43m)\u001B[49m\n\u001B[1;32m    905\u001B[0m     \u001B[38;5;28;01mif\u001B[39;00m return_object \u001B[38;5;129;01mis\u001B[39;00m \u001B[38;5;129;01mnot\u001B[39;00m \u001B[38;5;28;01mNone\u001B[39;00m:\n\u001B[1;32m    906\u001B[0m         \u001B[38;5;28;01mreturn\u001B[39;00m return_object\n",
      "File \u001B[0;32m~/Library/Caches/pypoetry/virtualenvs/universql-Kc1spAeO-py3.11/lib/python3.11/site-packages/snowflake/connector/network.py:1156\u001B[0m, in \u001B[0;36mSnowflakeRestful._request_exec\u001B[0;34m(self, session, method, full_url, headers, data, token, catch_okta_unauthorized_error, is_raw_text, is_raw_binary, binary_data_handler, socket_timeout, is_okta_authentication)\u001B[0m\n\u001B[1;32m   1154\u001B[0m         \u001B[38;5;28;01mraise\u001B[39;00m RetryRequest(err)\n\u001B[1;32m   1155\u001B[0m \u001B[38;5;28;01mexcept\u001B[39;00m \u001B[38;5;167;01mException\u001B[39;00m \u001B[38;5;28;01mas\u001B[39;00m err:\n\u001B[0;32m-> 1156\u001B[0m     \u001B[38;5;28;01mraise\u001B[39;00m err\n",
      "File \u001B[0;32m~/Library/Caches/pypoetry/virtualenvs/universql-Kc1spAeO-py3.11/lib/python3.11/site-packages/snowflake/connector/network.py:1116\u001B[0m, in \u001B[0;36mSnowflakeRestful._request_exec\u001B[0;34m(self, session, method, full_url, headers, data, token, catch_okta_unauthorized_error, is_raw_text, is_raw_binary, binary_data_handler, socket_timeout, is_okta_authentication)\u001B[0m\n\u001B[1;32m   1114\u001B[0m         \u001B[38;5;28;01mreturn\u001B[39;00m \u001B[38;5;28;01mNone\u001B[39;00m  \u001B[38;5;66;03m# required for tests\u001B[39;00m\n\u001B[1;32m   1115\u001B[0m     \u001B[38;5;28;01melse\u001B[39;00m:\n\u001B[0;32m-> 1116\u001B[0m         \u001B[43mraise_failed_request_error\u001B[49m\u001B[43m(\u001B[49m\n\u001B[1;32m   1117\u001B[0m \u001B[43m            \u001B[49m\u001B[38;5;28;43mself\u001B[39;49m\u001B[38;5;241;43m.\u001B[39;49m\u001B[43m_connection\u001B[49m\u001B[43m,\u001B[49m\u001B[43m \u001B[49m\u001B[43mfull_url\u001B[49m\u001B[43m,\u001B[49m\u001B[43m \u001B[49m\u001B[43mmethod\u001B[49m\u001B[43m,\u001B[49m\u001B[43m \u001B[49m\u001B[43mraw_ret\u001B[49m\n\u001B[1;32m   1118\u001B[0m \u001B[43m        \u001B[49m\u001B[43m)\u001B[49m\n\u001B[1;32m   1119\u001B[0m         \u001B[38;5;28;01mreturn\u001B[39;00m \u001B[38;5;28;01mNone\u001B[39;00m  \u001B[38;5;66;03m# required for tests\u001B[39;00m\n\u001B[1;32m   1120\u001B[0m \u001B[38;5;28;01mfinally\u001B[39;00m:\n",
      "File \u001B[0;32m~/Library/Caches/pypoetry/virtualenvs/universql-Kc1spAeO-py3.11/lib/python3.11/site-packages/snowflake/connector/network.py:230\u001B[0m, in \u001B[0;36mraise_failed_request_error\u001B[0;34m(connection, url, method, response)\u001B[0m\n\u001B[1;32m    224\u001B[0m \u001B[38;5;28;01mdef\u001B[39;00m \u001B[38;5;21mraise_failed_request_error\u001B[39m(\n\u001B[1;32m    225\u001B[0m     connection: SnowflakeConnection \u001B[38;5;241m|\u001B[39m \u001B[38;5;28;01mNone\u001B[39;00m,\n\u001B[1;32m    226\u001B[0m     url: \u001B[38;5;28mstr\u001B[39m,\n\u001B[1;32m    227\u001B[0m     method: \u001B[38;5;28mstr\u001B[39m,\n\u001B[1;32m    228\u001B[0m     response: Response,\n\u001B[1;32m    229\u001B[0m ) \u001B[38;5;241m-\u001B[39m\u001B[38;5;241m>\u001B[39m \u001B[38;5;28;01mNone\u001B[39;00m:\n\u001B[0;32m--> 230\u001B[0m     \u001B[43mError\u001B[49m\u001B[38;5;241;43m.\u001B[39;49m\u001B[43merrorhandler_wrapper\u001B[49m\u001B[43m(\u001B[49m\n\u001B[1;32m    231\u001B[0m \u001B[43m        \u001B[49m\u001B[43mconnection\u001B[49m\u001B[43m,\u001B[49m\n\u001B[1;32m    232\u001B[0m \u001B[43m        \u001B[49m\u001B[38;5;28;43;01mNone\u001B[39;49;00m\u001B[43m,\u001B[49m\n\u001B[1;32m    233\u001B[0m \u001B[43m        \u001B[49m\u001B[43mInterfaceError\u001B[49m\u001B[43m,\u001B[49m\n\u001B[1;32m    234\u001B[0m \u001B[43m        \u001B[49m\u001B[43m{\u001B[49m\n\u001B[1;32m    235\u001B[0m \u001B[43m            \u001B[49m\u001B[38;5;124;43m\"\u001B[39;49m\u001B[38;5;124;43mmsg\u001B[39;49m\u001B[38;5;124;43m\"\u001B[39;49m\u001B[43m:\u001B[49m\u001B[43m \u001B[49m\u001B[38;5;124;43mf\u001B[39;49m\u001B[38;5;124;43m\"\u001B[39;49m\u001B[38;5;132;43;01m{\u001B[39;49;00m\u001B[43mresponse\u001B[49m\u001B[38;5;241;43m.\u001B[39;49m\u001B[43mstatus_code\u001B[49m\u001B[38;5;132;43;01m}\u001B[39;49;00m\u001B[38;5;124;43m \u001B[39;49m\u001B[38;5;132;43;01m{\u001B[39;49;00m\u001B[43mresponse\u001B[49m\u001B[38;5;241;43m.\u001B[39;49m\u001B[43mreason\u001B[49m\u001B[38;5;132;43;01m}\u001B[39;49;00m\u001B[38;5;124;43m: \u001B[39;49m\u001B[38;5;132;43;01m{\u001B[39;49;00m\u001B[43mmethod\u001B[49m\u001B[38;5;132;43;01m}\u001B[39;49;00m\u001B[38;5;124;43m \u001B[39;49m\u001B[38;5;132;43;01m{\u001B[39;49;00m\u001B[43murl\u001B[49m\u001B[38;5;132;43;01m}\u001B[39;49;00m\u001B[38;5;124;43m\"\u001B[39;49m\u001B[43m,\u001B[49m\n\u001B[1;32m    236\u001B[0m \u001B[43m            \u001B[49m\u001B[38;5;124;43m\"\u001B[39;49m\u001B[38;5;124;43merrno\u001B[39;49m\u001B[38;5;124;43m\"\u001B[39;49m\u001B[43m:\u001B[49m\u001B[43m \u001B[49m\u001B[43mER_FAILED_TO_REQUEST\u001B[49m\u001B[43m,\u001B[49m\n\u001B[1;32m    237\u001B[0m \u001B[43m            \u001B[49m\u001B[38;5;124;43m\"\u001B[39;49m\u001B[38;5;124;43msqlstate\u001B[39;49m\u001B[38;5;124;43m\"\u001B[39;49m\u001B[43m:\u001B[49m\u001B[43m \u001B[49m\u001B[43mSQLSTATE_CONNECTION_WAS_NOT_ESTABLISHED\u001B[49m\u001B[43m,\u001B[49m\n\u001B[1;32m    238\u001B[0m \u001B[43m        \u001B[49m\u001B[43m}\u001B[49m\u001B[43m,\u001B[49m\n\u001B[1;32m    239\u001B[0m \u001B[43m    \u001B[49m\u001B[43m)\u001B[49m\n",
      "File \u001B[0;32m~/Library/Caches/pypoetry/virtualenvs/universql-Kc1spAeO-py3.11/lib/python3.11/site-packages/snowflake/connector/errors.py:284\u001B[0m, in \u001B[0;36mError.errorhandler_wrapper\u001B[0;34m(connection, cursor, error_class, error_value)\u001B[0m\n\u001B[1;32m    261\u001B[0m \u001B[38;5;129m@staticmethod\u001B[39m\n\u001B[1;32m    262\u001B[0m \u001B[38;5;28;01mdef\u001B[39;00m \u001B[38;5;21merrorhandler_wrapper\u001B[39m(\n\u001B[1;32m    263\u001B[0m     connection: SnowflakeConnection \u001B[38;5;241m|\u001B[39m \u001B[38;5;28;01mNone\u001B[39;00m,\n\u001B[0;32m   (...)\u001B[0m\n\u001B[1;32m    266\u001B[0m     error_value: \u001B[38;5;28mdict\u001B[39m[\u001B[38;5;28mstr\u001B[39m, Any],\n\u001B[1;32m    267\u001B[0m ) \u001B[38;5;241m-\u001B[39m\u001B[38;5;241m>\u001B[39m \u001B[38;5;28;01mNone\u001B[39;00m:\n\u001B[1;32m    268\u001B[0m \u001B[38;5;250m    \u001B[39m\u001B[38;5;124;03m\"\"\"Error handler wrapper that calls the errorhandler method.\u001B[39;00m\n\u001B[1;32m    269\u001B[0m \n\u001B[1;32m    270\u001B[0m \u001B[38;5;124;03m    Args:\u001B[39;00m\n\u001B[0;32m   (...)\u001B[0m\n\u001B[1;32m    281\u001B[0m \u001B[38;5;124;03m        exception to the first handler in that order.\u001B[39;00m\n\u001B[1;32m    282\u001B[0m \u001B[38;5;124;03m    \"\"\"\u001B[39;00m\n\u001B[0;32m--> 284\u001B[0m     handed_over \u001B[38;5;241m=\u001B[39m \u001B[43mError\u001B[49m\u001B[38;5;241;43m.\u001B[39;49m\u001B[43mhand_to_other_handler\u001B[49m\u001B[43m(\u001B[49m\n\u001B[1;32m    285\u001B[0m \u001B[43m        \u001B[49m\u001B[43mconnection\u001B[49m\u001B[43m,\u001B[49m\n\u001B[1;32m    286\u001B[0m \u001B[43m        \u001B[49m\u001B[43mcursor\u001B[49m\u001B[43m,\u001B[49m\n\u001B[1;32m    287\u001B[0m \u001B[43m        \u001B[49m\u001B[43merror_class\u001B[49m\u001B[43m,\u001B[49m\n\u001B[1;32m    288\u001B[0m \u001B[43m        \u001B[49m\u001B[43merror_value\u001B[49m\u001B[43m,\u001B[49m\n\u001B[1;32m    289\u001B[0m \u001B[43m    \u001B[49m\u001B[43m)\u001B[49m\n\u001B[1;32m    290\u001B[0m     \u001B[38;5;28;01mif\u001B[39;00m \u001B[38;5;129;01mnot\u001B[39;00m handed_over:\n\u001B[1;32m    291\u001B[0m         \u001B[38;5;28;01mraise\u001B[39;00m Error\u001B[38;5;241m.\u001B[39merrorhandler_make_exception(\n\u001B[1;32m    292\u001B[0m             error_class,\n\u001B[1;32m    293\u001B[0m             error_value,\n\u001B[1;32m    294\u001B[0m         )\n",
      "File \u001B[0;32m~/Library/Caches/pypoetry/virtualenvs/universql-Kc1spAeO-py3.11/lib/python3.11/site-packages/snowflake/connector/errors.py:342\u001B[0m, in \u001B[0;36mError.hand_to_other_handler\u001B[0;34m(connection, cursor, error_class, error_value)\u001B[0m\n\u001B[1;32m    340\u001B[0m     \u001B[38;5;28;01mreturn\u001B[39;00m \u001B[38;5;28;01mTrue\u001B[39;00m\n\u001B[1;32m    341\u001B[0m \u001B[38;5;28;01melif\u001B[39;00m connection \u001B[38;5;129;01mis\u001B[39;00m \u001B[38;5;129;01mnot\u001B[39;00m \u001B[38;5;28;01mNone\u001B[39;00m:\n\u001B[0;32m--> 342\u001B[0m     \u001B[43mconnection\u001B[49m\u001B[38;5;241;43m.\u001B[39;49m\u001B[43merrorhandler\u001B[49m\u001B[43m(\u001B[49m\u001B[43mconnection\u001B[49m\u001B[43m,\u001B[49m\u001B[43m \u001B[49m\u001B[43mcursor\u001B[49m\u001B[43m,\u001B[49m\u001B[43m \u001B[49m\u001B[43merror_class\u001B[49m\u001B[43m,\u001B[49m\u001B[43m \u001B[49m\u001B[43merror_value\u001B[49m\u001B[43m)\u001B[49m\n\u001B[1;32m    343\u001B[0m     \u001B[38;5;28;01mreturn\u001B[39;00m \u001B[38;5;28;01mTrue\u001B[39;00m\n\u001B[1;32m    344\u001B[0m \u001B[38;5;28;01mreturn\u001B[39;00m \u001B[38;5;28;01mFalse\u001B[39;00m\n",
      "File \u001B[0;32m~/Library/Caches/pypoetry/virtualenvs/universql-Kc1spAeO-py3.11/lib/python3.11/site-packages/snowflake/connector/errors.py:215\u001B[0m, in \u001B[0;36mError.default_errorhandler\u001B[0;34m(connection, cursor, error_class, error_value)\u001B[0m\n\u001B[1;32m    213\u001B[0m errno \u001B[38;5;241m=\u001B[39m error_value\u001B[38;5;241m.\u001B[39mget(\u001B[38;5;124m\"\u001B[39m\u001B[38;5;124merrno\u001B[39m\u001B[38;5;124m\"\u001B[39m)\n\u001B[1;32m    214\u001B[0m done_format_msg \u001B[38;5;241m=\u001B[39m error_value\u001B[38;5;241m.\u001B[39mget(\u001B[38;5;124m\"\u001B[39m\u001B[38;5;124mdone_format_msg\u001B[39m\u001B[38;5;124m\"\u001B[39m)\n\u001B[0;32m--> 215\u001B[0m \u001B[38;5;28;01mraise\u001B[39;00m error_class(\n\u001B[1;32m    216\u001B[0m     msg\u001B[38;5;241m=\u001B[39merror_value\u001B[38;5;241m.\u001B[39mget(\u001B[38;5;124m\"\u001B[39m\u001B[38;5;124mmsg\u001B[39m\u001B[38;5;124m\"\u001B[39m),\n\u001B[1;32m    217\u001B[0m     errno\u001B[38;5;241m=\u001B[39m\u001B[38;5;28;01mNone\u001B[39;00m \u001B[38;5;28;01mif\u001B[39;00m errno \u001B[38;5;129;01mis\u001B[39;00m \u001B[38;5;28;01mNone\u001B[39;00m \u001B[38;5;28;01melse\u001B[39;00m \u001B[38;5;28mint\u001B[39m(errno),\n\u001B[1;32m    218\u001B[0m     sqlstate\u001B[38;5;241m=\u001B[39merror_value\u001B[38;5;241m.\u001B[39mget(\u001B[38;5;124m\"\u001B[39m\u001B[38;5;124msqlstate\u001B[39m\u001B[38;5;124m\"\u001B[39m),\n\u001B[1;32m    219\u001B[0m     sfqid\u001B[38;5;241m=\u001B[39merror_value\u001B[38;5;241m.\u001B[39mget(\u001B[38;5;124m\"\u001B[39m\u001B[38;5;124msfqid\u001B[39m\u001B[38;5;124m\"\u001B[39m),\n\u001B[1;32m    220\u001B[0m     query\u001B[38;5;241m=\u001B[39merror_value\u001B[38;5;241m.\u001B[39mget(\u001B[38;5;124m\"\u001B[39m\u001B[38;5;124mquery\u001B[39m\u001B[38;5;124m\"\u001B[39m),\n\u001B[1;32m    221\u001B[0m     done_format_msg\u001B[38;5;241m=\u001B[39m(\n\u001B[1;32m    222\u001B[0m         \u001B[38;5;28;01mNone\u001B[39;00m \u001B[38;5;28;01mif\u001B[39;00m done_format_msg \u001B[38;5;129;01mis\u001B[39;00m \u001B[38;5;28;01mNone\u001B[39;00m \u001B[38;5;28;01melse\u001B[39;00m \u001B[38;5;28mbool\u001B[39m(done_format_msg)\n\u001B[1;32m    223\u001B[0m     ),\n\u001B[1;32m    224\u001B[0m     connection\u001B[38;5;241m=\u001B[39mconnection,\n\u001B[1;32m    225\u001B[0m     cursor\u001B[38;5;241m=\u001B[39mcursor,\n\u001B[1;32m    226\u001B[0m )\n",
      "\u001B[0;31mInterfaceError\u001B[0m: 250003 (08001): 401 Unauthorized: post https://localhostcomputing.com:8084/queries/v1/query-request?requestId=6d4b2c75-1ca1-4ca6-a3ed-af1749a5f288&clientStartTime=1727130359840&retryCount=8&retryReason=None"
     ]
    }
   ],
   "source": [
    "con.cursor().execute(\"select C_MKTSEGMENT, count(*) from my_iceberg_jinjat.tpch_sf1.dynamic_iceberg_table_customer group by all\").fetch_pandas_all()"
   ]
  },
  {
   "cell_type": "code",
   "execution_count": 2,
   "id": "d01f1e0b-d4b7-4b16-b1a8-adf73b874dde",
   "metadata": {
    "ExecuteTime": {
     "end_time": "2024-08-28T00:18:39.392757Z",
     "start_time": "2024-08-28T00:18:38.346465Z"
    }
   },
   "outputs": [
    {
     "data": {
      "text/html": [
       "<div>\n",
       "<style scoped>\n",
       "    .dataframe tbody tr th:only-of-type {\n",
       "        vertical-align: middle;\n",
       "    }\n",
       "\n",
       "    .dataframe tbody tr th {\n",
       "        vertical-align: top;\n",
       "    }\n",
       "\n",
       "    .dataframe thead th {\n",
       "        text-align: right;\n",
       "    }\n",
       "</style>\n",
       "<table border=\"1\" class=\"dataframe\">\n",
       "  <thead>\n",
       "    <tr style=\"text-align: right;\">\n",
       "      <th></th>\n",
       "      <th>C_MKTSEGMENT</th>\n",
       "      <th>count_star()</th>\n",
       "    </tr>\n",
       "  </thead>\n",
       "  <tbody>\n",
       "    <tr>\n",
       "      <th>0</th>\n",
       "      <td>BUILDING</td>\n",
       "      <td>120568</td>\n",
       "    </tr>\n",
       "    <tr>\n",
       "      <th>1</th>\n",
       "      <td>AUTOMOBILE</td>\n",
       "      <td>119008</td>\n",
       "    </tr>\n",
       "    <tr>\n",
       "      <th>2</th>\n",
       "      <td>FURNITURE</td>\n",
       "      <td>119872</td>\n",
       "    </tr>\n",
       "    <tr>\n",
       "      <th>3</th>\n",
       "      <td>MACHINERY</td>\n",
       "      <td>119796</td>\n",
       "    </tr>\n",
       "    <tr>\n",
       "      <th>4</th>\n",
       "      <td>HOUSEHOLD</td>\n",
       "      <td>120756</td>\n",
       "    </tr>\n",
       "  </tbody>\n",
       "</table>\n",
       "</div>"
      ],
      "text/plain": [
       "  C_MKTSEGMENT  count_star()\n",
       "0     BUILDING        120568\n",
       "1   AUTOMOBILE        119008\n",
       "2    FURNITURE        119872\n",
       "3    MACHINERY        119796\n",
       "4    HOUSEHOLD        120756"
      ]
     },
     "execution_count": 2,
     "metadata": {},
     "output_type": "execute_result"
    }
   ],
   "source": [
    "con.cursor().execute(\"show tables in tpch_sf1\").fetch_pandas_all()"
   ]
  },
  {
   "cell_type": "code",
   "execution_count": 27,
   "id": "88d8a111-9e2e-4738-87e9-e43c53c0f4f5",
   "metadata": {
    "ExecuteTime": {
     "end_time": "2024-08-23T14:35:05.027142Z",
     "start_time": "2024-08-23T14:34:51.583357Z"
    }
   },
   "outputs": [
    {
     "data": {
      "text/html": [
       "<div>\n",
       "<style scoped>\n",
       "    .dataframe tbody tr th:only-of-type {\n",
       "        vertical-align: middle;\n",
       "    }\n",
       "\n",
       "    .dataframe tbody tr th {\n",
       "        vertical-align: top;\n",
       "    }\n",
       "\n",
       "    .dataframe thead th {\n",
       "        text-align: right;\n",
       "    }\n",
       "</style>\n",
       "<table border=\"1\" class=\"dataframe\">\n",
       "  <thead>\n",
       "    <tr style=\"text-align: right;\">\n",
       "      <th></th>\n",
       "      <th>count_star()</th>\n",
       "    </tr>\n",
       "  </thead>\n",
       "  <tbody>\n",
       "    <tr>\n",
       "      <th>0</th>\n",
       "      <td>1500000000</td>\n",
       "    </tr>\n",
       "  </tbody>\n",
       "</table>\n",
       "</div>"
      ],
      "text/plain": [
       "   count_star()\n",
       "0    1500000000"
      ]
     },
     "execution_count": 27,
     "metadata": {},
     "output_type": "execute_result"
    }
   ],
   "source": [
    "con.cursor().execute(\"select count(*) from my_iceberg_jinjat.tpch_sf1.orders_iceberg_tpch_sf1000\").fetch_pandas_all()"
   ]
  },
  {
   "cell_type": "code",
   "execution_count": 28,
   "id": "5be1a409-d43e-4e5a-bae1-df3bc32f9a8d",
   "metadata": {},
   "outputs": [
    {
     "data": {
      "text/html": [
       "<div>\n",
       "<style scoped>\n",
       "    .dataframe tbody tr th:only-of-type {\n",
       "        vertical-align: middle;\n",
       "    }\n",
       "\n",
       "    .dataframe tbody tr th {\n",
       "        vertical-align: top;\n",
       "    }\n",
       "\n",
       "    .dataframe thead th {\n",
       "        text-align: right;\n",
       "    }\n",
       "</style>\n",
       "<table border=\"1\" class=\"dataframe\">\n",
       "  <thead>\n",
       "    <tr style=\"text-align: right;\">\n",
       "      <th></th>\n",
       "      <th>O_ORDERDATE</th>\n",
       "      <th>count(O_CLERK)</th>\n",
       "    </tr>\n",
       "  </thead>\n",
       "  <tbody>\n",
       "    <tr>\n",
       "      <th>0</th>\n",
       "      <td>1998-08-02</td>\n",
       "      <td>623367</td>\n",
       "    </tr>\n",
       "    <tr>\n",
       "      <th>1</th>\n",
       "      <td>1998-08-01</td>\n",
       "      <td>623287</td>\n",
       "    </tr>\n",
       "    <tr>\n",
       "      <th>2</th>\n",
       "      <td>1998-07-31</td>\n",
       "      <td>623459</td>\n",
       "    </tr>\n",
       "    <tr>\n",
       "      <th>3</th>\n",
       "      <td>1998-07-30</td>\n",
       "      <td>623159</td>\n",
       "    </tr>\n",
       "    <tr>\n",
       "      <th>4</th>\n",
       "      <td>1998-07-29</td>\n",
       "      <td>623071</td>\n",
       "    </tr>\n",
       "    <tr>\n",
       "      <th>...</th>\n",
       "      <td>...</td>\n",
       "      <td>...</td>\n",
       "    </tr>\n",
       "    <tr>\n",
       "      <th>995</th>\n",
       "      <td>1995-11-11</td>\n",
       "      <td>623359</td>\n",
       "    </tr>\n",
       "    <tr>\n",
       "      <th>996</th>\n",
       "      <td>1995-11-10</td>\n",
       "      <td>622651</td>\n",
       "    </tr>\n",
       "    <tr>\n",
       "      <th>997</th>\n",
       "      <td>1995-11-09</td>\n",
       "      <td>624224</td>\n",
       "    </tr>\n",
       "    <tr>\n",
       "      <th>998</th>\n",
       "      <td>1995-11-08</td>\n",
       "      <td>622410</td>\n",
       "    </tr>\n",
       "    <tr>\n",
       "      <th>999</th>\n",
       "      <td>1995-11-07</td>\n",
       "      <td>622318</td>\n",
       "    </tr>\n",
       "  </tbody>\n",
       "</table>\n",
       "<p>1000 rows × 2 columns</p>\n",
       "</div>"
      ],
      "text/plain": [
       "    O_ORDERDATE  count(O_CLERK)\n",
       "0    1998-08-02          623367\n",
       "1    1998-08-01          623287\n",
       "2    1998-07-31          623459\n",
       "3    1998-07-30          623159\n",
       "4    1998-07-29          623071\n",
       "..          ...             ...\n",
       "995  1995-11-11          623359\n",
       "996  1995-11-10          622651\n",
       "997  1995-11-09          624224\n",
       "998  1995-11-08          622410\n",
       "999  1995-11-07          622318\n",
       "\n",
       "[1000 rows x 2 columns]"
      ]
     },
     "execution_count": 28,
     "metadata": {},
     "output_type": "execute_result"
    }
   ],
   "source": [
    "con.cursor().execute(\"select O_ORDERDATE, count(O_CLERK) from my_iceberg_jinjat.tpch_sf1.orders_iceberg_tpch_sf1000 group by all order by 1 desc limit 1000\").fetch_pandas_all()"
   ]
  },
  {
   "cell_type": "code",
   "execution_count": null,
   "id": "22864020-2b0b-46b5-94be-c74a6e691fbb",
   "metadata": {},
   "outputs": [],
   "source": []
  }
 ],
 "metadata": {
  "kernelspec": {
   "display_name": "Python 3 (ipykernel)",
   "language": "python",
   "name": "python3"
  },
  "language_info": {
   "codemirror_mode": {
    "name": "ipython",
    "version": 3
   },
   "file_extension": ".py",
   "mimetype": "text/x-python",
   "name": "python",
   "nbconvert_exporter": "python",
   "pygments_lexer": "ipython3",
   "version": "3.9.12"
  }
 },
 "nbformat": 4,
 "nbformat_minor": 5
}
