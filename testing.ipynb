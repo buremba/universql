{
 "cells": [
  {
   "cell_type": "code",
   "execution_count": 6,
   "id": "initial_id",
   "metadata": {
    "ExecuteTime": {
     "end_time": "2024-08-23T00:26:59.054767Z",
     "start_time": "2024-08-23T00:26:57.825716Z"
    }
   },
   "outputs": [],
   "source": [
    "import snowflake.connector\n",
    "\n",
    "con = snowflake.connector.connect(account='lt51601.europe-west2.gcp', \n",
    "                                  database='my_iceberg_jinjat', connection_name='default',\n",
    "                                  host='localhostcomputing.com', \n",
    "                                  port='8084', role='ACCOUNTADMIN')\n",
    "cur = con.cursor()"
   ]
  },
  {
   "cell_type": "code",
   "execution_count": 9,
   "id": "7165f75bf836dbe3",
   "metadata": {
    "ExecuteTime": {
     "end_time": "2024-08-23T00:26:02.643488Z",
     "start_time": "2024-08-23T00:26:02.378622Z"
    },
    "collapsed": false,
    "jupyter": {
     "outputs_hidden": false
    }
   },
   "outputs": [
    {
     "data": {
      "text/html": [
       "<div>\n",
       "<style scoped>\n",
       "    .dataframe tbody tr th:only-of-type {\n",
       "        vertical-align: middle;\n",
       "    }\n",
       "\n",
       "    .dataframe tbody tr th {\n",
       "        vertical-align: top;\n",
       "    }\n",
       "\n",
       "    .dataframe thead th {\n",
       "        text-align: right;\n",
       "    }\n",
       "</style>\n",
       "<table border=\"1\" class=\"dataframe\">\n",
       "  <thead>\n",
       "    <tr style=\"text-align: right;\">\n",
       "      <th></th>\n",
       "      <th>created_on</th>\n",
       "      <th>name</th>\n",
       "      <th>database_name</th>\n",
       "      <th>schema_name</th>\n",
       "      <th>kind</th>\n",
       "      <th>comment</th>\n",
       "      <th>cluster_by</th>\n",
       "      <th>rows</th>\n",
       "      <th>bytes</th>\n",
       "      <th>owner</th>\n",
       "      <th>...</th>\n",
       "      <th>change_tracking</th>\n",
       "      <th>is_external</th>\n",
       "      <th>enable_schema_evolution</th>\n",
       "      <th>owner_role_type</th>\n",
       "      <th>is_event</th>\n",
       "      <th>budget</th>\n",
       "      <th>is_hybrid</th>\n",
       "      <th>is_iceberg</th>\n",
       "      <th>is_dynamic</th>\n",
       "      <th>is_immutable</th>\n",
       "    </tr>\n",
       "  </thead>\n",
       "  <tbody>\n",
       "    <tr>\n",
       "      <th>0</th>\n",
       "      <td>292278994-08-16 23:12:55.807000-08:00</td>\n",
       "      <td>CUSTOMER</td>\n",
       "      <td>MY_ICEBERG_JINJAT</td>\n",
       "      <td>TPCH_SF1</td>\n",
       "      <td>TABLE</td>\n",
       "      <td></td>\n",
       "      <td></td>\n",
       "      <td>600000</td>\n",
       "      <td>43210240</td>\n",
       "      <td>ACCOUNTADMIN</td>\n",
       "      <td>...</td>\n",
       "      <td>ON</td>\n",
       "      <td>N</td>\n",
       "      <td>N</td>\n",
       "      <td>ROLE</td>\n",
       "      <td>N</td>\n",
       "      <td>None</td>\n",
       "      <td>N</td>\n",
       "      <td>N</td>\n",
       "      <td>N</td>\n",
       "      <td>N</td>\n",
       "    </tr>\n",
       "    <tr>\n",
       "      <th>1</th>\n",
       "      <td>292278994-08-16 23:12:55.807000-08:00</td>\n",
       "      <td>DYNAMIC_ICEBERG_TABLE_CUSTOMER</td>\n",
       "      <td>MY_ICEBERG_JINJAT</td>\n",
       "      <td>TPCH_SF1</td>\n",
       "      <td>TABLE</td>\n",
       "      <td></td>\n",
       "      <td></td>\n",
       "      <td>600000</td>\n",
       "      <td>42527232</td>\n",
       "      <td>ACCOUNTADMIN</td>\n",
       "      <td>...</td>\n",
       "      <td>ON</td>\n",
       "      <td>N</td>\n",
       "      <td>N</td>\n",
       "      <td>ROLE</td>\n",
       "      <td>N</td>\n",
       "      <td>None</td>\n",
       "      <td>N</td>\n",
       "      <td>Y</td>\n",
       "      <td>Y</td>\n",
       "      <td>N</td>\n",
       "    </tr>\n",
       "    <tr>\n",
       "      <th>2</th>\n",
       "      <td>292278994-08-16 23:12:55.807000-08:00</td>\n",
       "      <td>DYNAMIC_TABLE_CUSTOMER</td>\n",
       "      <td>MY_ICEBERG_JINJAT</td>\n",
       "      <td>TPCH_SF1</td>\n",
       "      <td>TABLE</td>\n",
       "      <td></td>\n",
       "      <td></td>\n",
       "      <td>600000</td>\n",
       "      <td>58829312</td>\n",
       "      <td>ACCOUNTADMIN</td>\n",
       "      <td>...</td>\n",
       "      <td>ON</td>\n",
       "      <td>N</td>\n",
       "      <td>N</td>\n",
       "      <td>ROLE</td>\n",
       "      <td>N</td>\n",
       "      <td>None</td>\n",
       "      <td>N</td>\n",
       "      <td>N</td>\n",
       "      <td>Y</td>\n",
       "      <td>N</td>\n",
       "    </tr>\n",
       "    <tr>\n",
       "      <th>3</th>\n",
       "      <td>292278994-08-16 23:12:55.807000-08:00</td>\n",
       "      <td>ORDERS_ICEBERG_TPCH_SF1000</td>\n",
       "      <td>MY_ICEBERG_JINJAT</td>\n",
       "      <td>TPCH_SF1</td>\n",
       "      <td>TABLE</td>\n",
       "      <td></td>\n",
       "      <td></td>\n",
       "      <td>1500000000</td>\n",
       "      <td>42525678592</td>\n",
       "      <td>ACCOUNTADMIN</td>\n",
       "      <td>...</td>\n",
       "      <td>OFF</td>\n",
       "      <td>N</td>\n",
       "      <td>N</td>\n",
       "      <td>ROLE</td>\n",
       "      <td>N</td>\n",
       "      <td>None</td>\n",
       "      <td>N</td>\n",
       "      <td>Y</td>\n",
       "      <td>N</td>\n",
       "      <td>N</td>\n",
       "    </tr>\n",
       "    <tr>\n",
       "      <th>4</th>\n",
       "      <td>292278994-08-16 23:12:55.807000-08:00</td>\n",
       "      <td>TEST_TABLE_MANAGED</td>\n",
       "      <td>MY_ICEBERG_JINJAT</td>\n",
       "      <td>TPCH_SF1</td>\n",
       "      <td>TABLE</td>\n",
       "      <td></td>\n",
       "      <td></td>\n",
       "      <td>0</td>\n",
       "      <td>0</td>\n",
       "      <td>ACCOUNTADMIN</td>\n",
       "      <td>...</td>\n",
       "      <td>OFF</td>\n",
       "      <td>N</td>\n",
       "      <td>N</td>\n",
       "      <td>ROLE</td>\n",
       "      <td>N</td>\n",
       "      <td>None</td>\n",
       "      <td>N</td>\n",
       "      <td>Y</td>\n",
       "      <td>N</td>\n",
       "      <td>N</td>\n",
       "    </tr>\n",
       "  </tbody>\n",
       "</table>\n",
       "<p>5 rows × 22 columns</p>\n",
       "</div>"
      ],
      "text/plain": [
       "                             created_on                            name  \\\n",
       "0 292278994-08-16 23:12:55.807000-08:00                        CUSTOMER   \n",
       "1 292278994-08-16 23:12:55.807000-08:00  DYNAMIC_ICEBERG_TABLE_CUSTOMER   \n",
       "2 292278994-08-16 23:12:55.807000-08:00          DYNAMIC_TABLE_CUSTOMER   \n",
       "3 292278994-08-16 23:12:55.807000-08:00      ORDERS_ICEBERG_TPCH_SF1000   \n",
       "4 292278994-08-16 23:12:55.807000-08:00              TEST_TABLE_MANAGED   \n",
       "\n",
       "       database_name schema_name   kind comment cluster_by        rows  \\\n",
       "0  MY_ICEBERG_JINJAT    TPCH_SF1  TABLE                         600000   \n",
       "1  MY_ICEBERG_JINJAT    TPCH_SF1  TABLE                         600000   \n",
       "2  MY_ICEBERG_JINJAT    TPCH_SF1  TABLE                         600000   \n",
       "3  MY_ICEBERG_JINJAT    TPCH_SF1  TABLE                     1500000000   \n",
       "4  MY_ICEBERG_JINJAT    TPCH_SF1  TABLE                              0   \n",
       "\n",
       "         bytes         owner  ... change_tracking is_external  \\\n",
       "0     43210240  ACCOUNTADMIN  ...              ON           N   \n",
       "1     42527232  ACCOUNTADMIN  ...              ON           N   \n",
       "2     58829312  ACCOUNTADMIN  ...              ON           N   \n",
       "3  42525678592  ACCOUNTADMIN  ...             OFF           N   \n",
       "4            0  ACCOUNTADMIN  ...             OFF           N   \n",
       "\n",
       "  enable_schema_evolution owner_role_type is_event budget is_hybrid  \\\n",
       "0                       N            ROLE        N   None         N   \n",
       "1                       N            ROLE        N   None         N   \n",
       "2                       N            ROLE        N   None         N   \n",
       "3                       N            ROLE        N   None         N   \n",
       "4                       N            ROLE        N   None         N   \n",
       "\n",
       "  is_iceberg is_dynamic is_immutable  \n",
       "0          N          N            N  \n",
       "1          Y          Y            N  \n",
       "2          N          Y            N  \n",
       "3          Y          N            N  \n",
       "4          Y          N            N  \n",
       "\n",
       "[5 rows x 22 columns]"
      ]
     },
     "execution_count": 9,
     "metadata": {},
     "output_type": "execute_result"
    }
   ],
   "source": [
    "con.cursor().execute(\"show tables in schema tpch_sf1\").fetch_pandas_all()"
   ]
  },
  {
   "cell_type": "code",
   "execution_count": 6,
   "id": "8131abc5f2b2c071",
   "metadata": {
    "ExecuteTime": {
     "end_time": "2024-08-22T23:45:21.528820Z",
     "start_time": "2024-08-22T23:45:19.533566Z"
    },
    "collapsed": false,
    "jupyter": {
     "outputs_hidden": false
    }
   },
   "outputs": [
    {
     "data": {
      "text/html": [
       "<div>\n",
       "<style scoped>\n",
       "    .dataframe tbody tr th:only-of-type {\n",
       "        vertical-align: middle;\n",
       "    }\n",
       "\n",
       "    .dataframe tbody tr th {\n",
       "        vertical-align: top;\n",
       "    }\n",
       "\n",
       "    .dataframe thead th {\n",
       "        text-align: right;\n",
       "    }\n",
       "</style>\n",
       "<table border=\"1\" class=\"dataframe\">\n",
       "  <thead>\n",
       "    <tr style=\"text-align: right;\">\n",
       "      <th></th>\n",
       "      <th>count_star()</th>\n",
       "    </tr>\n",
       "  </thead>\n",
       "  <tbody>\n",
       "    <tr>\n",
       "      <th>0</th>\n",
       "      <td>1500000000</td>\n",
       "    </tr>\n",
       "  </tbody>\n",
       "</table>\n",
       "</div>"
      ],
      "text/plain": [
       "   count_star()\n",
       "0    1500000000"
      ]
     },
     "execution_count": 6,
     "metadata": {},
     "output_type": "execute_result"
    }
   ],
   "source": [
    "con.cursor().execute(\"select count(*) from my_iceberg_jinjat.tpch_sf1.orders_iceberg_tpch_sf1000\").fetch_pandas_all()"
   ]
  },
  {
   "cell_type": "code",
   "execution_count": 4,
   "id": "a28646d5a8560160",
   "metadata": {
    "ExecuteTime": {
     "end_time": "2024-08-22T23:35:16.446867Z",
     "start_time": "2024-08-22T23:35:16.445488Z"
    },
    "collapsed": false,
    "jupyter": {
     "outputs_hidden": false
    }
   },
   "outputs": [],
   "source": [
    "con.cursor().execute(\"select O_ORDERDATE, count(O_CLERK) from my_iceberg_jinjat.tpch_sf1.orders_iceberg_tpch_sf1000 group by all order by 1 desc limit 1000\").fetch_pandas_all()"
   ]
  },
  {
   "cell_type": "code",
   "execution_count": null,
   "id": "c8b8ffb4e8806d8c",
   "metadata": {
    "collapsed": false,
    "jupyter": {
     "outputs_hidden": false
    }
   },
   "outputs": [],
   "source": []
  }
 ],
 "metadata": {
  "kernelspec": {
   "display_name": "Python 3 (ipykernel)",
   "language": "python",
   "name": "python3"
  },
  "language_info": {
   "codemirror_mode": {
    "name": "ipython",
    "version": 3
   },
   "file_extension": ".py",
   "mimetype": "text/x-python",
   "name": "python",
   "nbconvert_exporter": "python",
   "pygments_lexer": "ipython3",
   "version": "3.11.9"
  }
 },
 "nbformat": 4,
 "nbformat_minor": 5
}
