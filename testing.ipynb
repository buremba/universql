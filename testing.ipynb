{
 "cells": [
  {
   "cell_type": "code",
   "execution_count": 2,
   "id": "initial_id",
   "metadata": {
    "ExecuteTime": {
     "end_time": "2024-08-23T00:26:59.054767Z",
     "start_time": "2024-08-23T00:26:57.825716Z"
    }
   },
   "outputs": [],
   "source": [
    "import snowflake.connector\n",
    "\n",
    "con = snowflake.connector.connect(account='lt51601.europe-west2.gcp', database='MY_CUSTOM_APP', connection_name='default', host='localhostcomputing.com', port='8084', role='ACCOUNTADMIN')\n",
    "cur = con.cursor()"
   ]
  },
  {
   "cell_type": "code",
   "execution_count": null,
   "id": "7165f75bf836dbe3",
   "metadata": {
    "ExecuteTime": {
     "end_time": "2024-08-23T00:26:02.643488Z",
     "start_time": "2024-08-23T00:26:02.378622Z"
    },
    "collapsed": false,
    "jupyter": {
     "outputs_hidden": false
    }
   },
   "outputs": [],
   "source": [
    "con.cursor().execute(\"show tables\").fetch_pandas_all()"
   ]
  },
  {
   "cell_type": "code",
   "execution_count": 6,
   "id": "8131abc5f2b2c071",
   "metadata": {
    "ExecuteTime": {
     "end_time": "2024-08-22T23:45:21.528820Z",
     "start_time": "2024-08-22T23:45:19.533566Z"
    },
    "collapsed": false,
    "jupyter": {
     "outputs_hidden": false
    }
   },
   "outputs": [
    {
     "data": {
      "text/html": [
       "<div>\n",
       "<style scoped>\n",
       "    .dataframe tbody tr th:only-of-type {\n",
       "        vertical-align: middle;\n",
       "    }\n",
       "\n",
       "    .dataframe tbody tr th {\n",
       "        vertical-align: top;\n",
       "    }\n",
       "\n",
       "    .dataframe thead th {\n",
       "        text-align: right;\n",
       "    }\n",
       "</style>\n",
       "<table border=\"1\" class=\"dataframe\">\n",
       "  <thead>\n",
       "    <tr style=\"text-align: right;\">\n",
       "      <th></th>\n",
       "      <th>count_star()</th>\n",
       "    </tr>\n",
       "  </thead>\n",
       "  <tbody>\n",
       "    <tr>\n",
       "      <th>0</th>\n",
       "      <td>1500000000</td>\n",
       "    </tr>\n",
       "  </tbody>\n",
       "</table>\n",
       "</div>"
      ],
      "text/plain": [
       "   count_star()\n",
       "0    1500000000"
      ]
     },
     "execution_count": 6,
     "metadata": {},
     "output_type": "execute_result"
    }
   ],
   "source": [
    "con.cursor().execute(\"select count(*) from my_iceberg_jinjat.tpch_sf1.orders_iceberg_tpch_sf1000\").fetch_pandas_all()"
   ]
  },
  {
   "cell_type": "code",
   "execution_count": 4,
   "id": "a28646d5a8560160",
   "metadata": {
    "ExecuteTime": {
     "end_time": "2024-08-22T23:35:16.446867Z",
     "start_time": "2024-08-22T23:35:16.445488Z"
    },
    "collapsed": false,
    "jupyter": {
     "outputs_hidden": false
    }
   },
   "outputs": [],
   "source": [
    "con.cursor().execute(\"select O_ORDERDATE, count(O_CLERK) from my_iceberg_jinjat.tpch_sf1.orders_iceberg_tpch_sf1000 group by all order by 1 desc limit 1000\").fetch_pandas_all()"
   ]
  },
  {
   "cell_type": "code",
   "execution_count": null,
   "id": "c8b8ffb4e8806d8c",
   "metadata": {
    "collapsed": false,
    "jupyter": {
     "outputs_hidden": false
    }
   },
   "outputs": [],
   "source": []
  }
 ],
 "metadata": {
  "kernelspec": {
   "display_name": "Python 3 (ipykernel)",
   "language": "python",
   "name": "python3"
  },
  "language_info": {
   "codemirror_mode": {
    "name": "ipython",
    "version": 3
   },
   "file_extension": ".py",
   "mimetype": "text/x-python",
   "name": "python",
   "nbconvert_exporter": "python",
   "pygments_lexer": "ipython3",
   "version": "3.11.9"
  }
 },
 "nbformat": 4,
 "nbformat_minor": 5
}
